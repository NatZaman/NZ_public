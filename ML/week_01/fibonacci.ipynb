{
  "nbformat": 4,
  "nbformat_minor": 0,
  "metadata": {
    "colab": {
      "name": "fibonacci.ipynb",
      "provenance": []
    },
    "kernelspec": {
      "name": "python3",
      "display_name": "Python 3"
    }
  },
  "cells": [
    {
      "cell_type": "code",
      "metadata": {
        "colab": {
          "base_uri": "https://localhost:8080/"
        },
        "id": "AXRm1j5omWVn",
        "outputId": "0de552b7-2add-4d64-c478-11c9102818aa"
      },
      "source": [
        "# Fibonacci calculation using iteration\n",
        "# returns the n'th number in the Fibonacci sequence\n",
        "def iter_fib(n):\n",
        "  prev, cur = (0, 1)\n",
        "  for i in range(2, n+1):\n",
        "    prev, cur = (cur, prev + cur)\n",
        "  return cur\n",
        "\n",
        "# Fibonacci calculation using recursion\n",
        "# returns the n'th number in the Fibonacci sequence\n",
        "def recur_fib(n):\n",
        "  if n < 2:\n",
        "    return n\n",
        "  else:\n",
        "    return recur_fib(n-1) + recur_fib(n-2)\n",
        "\n",
        "# Fibonacci calculation using a Matrix\n",
        "# returns the n'th number in the Fibonacci sequence\n",
        "def matrix_fib(n):\n",
        "  F1 = [1, 1, 1, 0]\n",
        "  return matrix_power(F1, n)[1]\n",
        "\n",
        "#unrefined matrix multiplication... #TODO!\n",
        "def matrix_multiply(A, B):\n",
        "  a, b, c, d = A\n",
        "  x, y, z, w = B\n",
        "    \n",
        "  return (\n",
        "      a*x + b*z,\n",
        "      a*y + b*w,\n",
        "      c*x + d*z,\n",
        "      c*y + d*w,\n",
        "      )\n",
        "\n",
        "def matrix_power(A, m):\n",
        "  if m == 0:\n",
        "    return [1, 0, 0, 1]\n",
        "  B = A\n",
        "  for _ in range(m-1):\n",
        "    B = matrix_multiply(B, A)\n",
        "  return B\n",
        "\n",
        "def main():\n",
        "  n = 23\n",
        "  print(iter_fib(n))\n",
        "  print(recur_fib(n))\n",
        "  print(matrix_fib(n))\n",
        "\n",
        "main()"
      ],
      "execution_count": 17,
      "outputs": [
        {
          "output_type": "stream",
          "text": [
            "28657\n",
            "28657\n",
            "28657\n"
          ],
          "name": "stdout"
        }
      ]
    }
  ]
}