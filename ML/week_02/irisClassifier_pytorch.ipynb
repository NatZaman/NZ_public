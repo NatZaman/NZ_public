{
  "nbformat": 4,
  "nbformat_minor": 0,
  "metadata": {
    "colab": {
      "name": "week2part2.ipynb",
      "provenance": []
    },
    "kernelspec": {
      "name": "python3",
      "display_name": "Python 3"
    }
  },
  "cells": [
    {
      "cell_type": "code",
      "metadata": {
        "colab": {
          "base_uri": "https://localhost:8080/",
          "height": 609
        },
        "id": "oxbqRrkbtk4O",
        "outputId": "0fae1ddb-a5fe-4ed9-e4f2-d6fdd4496096"
      },
      "source": [
        "import torch\n",
        "import torch.nn as nn\n",
        "import torch.nn.functional as F\n",
        "from sklearn import datasets\n",
        "import matplotlib.pyplot as plt\n",
        "import numpy as np\n",
        "import pandas as pd\n",
        "from torch.utils.data import TensorDataset, DataLoader\n",
        "from google.colab import files\n",
        "from sklearn.model_selection import train_test_split\n",
        "\n",
        "iris = datasets.load_iris()\n",
        "\n",
        "features = {'sepal_length':iris.data[:,2], 'sepal_width':iris.data[:,1], 'target':iris.target==0}\n",
        "\n",
        "df = pd.DataFrame(data = features)\n",
        "X = df.drop('target',axis =1).values\n",
        "y = df.target.values\n",
        "\n",
        "features = X\n",
        "target = y\n",
        "\n",
        "iris= TensorDataset(torch.FloatTensor(features),torch.LongTensor(target))\n",
        "\n",
        "iris_loader = DataLoader(iris,batch_size=50,shuffle = True)\n",
        "\n",
        "class Model(nn.Module):\n",
        "    \n",
        "    def __init__(self,in_features=2,h1=6,h2=3,out_features=3):\n",
        "        super().__init__()\n",
        "        self.fc1 = nn.Linear(in_features,h1)\n",
        "        self.fc2 = nn.Linear(h1,h2)\n",
        "        self.out = nn.Linear(h2,out_features)\n",
        "    \n",
        "    def forward(self,x):\n",
        "        x = F.relu(self.fc1(x))\n",
        "        x = F.relu(self.fc2(x))\n",
        "        x = self.out(x)\n",
        "        return x\n",
        "\n",
        "\n",
        "model = Model()\n",
        "\n",
        "features = torch.FloatTensor(features)\n",
        "target = torch.LongTensor(target)\n",
        "\n",
        "X_train, X_test, y_train, y_test=train_test_split(features,target,random_state=59,test_size=0.35)\n",
        "\n",
        "\n",
        "# Classification problem => Evaluated based on Cross Entropy Loss\n",
        "criterion = nn.CrossEntropyLoss()\n",
        "\n",
        "#Optimizer\n",
        "optimizer = torch.optim.Adam(model.parameters(),lr=0.01)\n",
        "\n",
        "#Epochs\n",
        "epochs = 200\n",
        "losses = []\n",
        "\n",
        "for i in range(epochs):\n",
        "    \n",
        "    ypred = model.forward(X_train)\n",
        "    \n",
        "    loss = criterion(ypred,y_train)\n",
        "    #Keeping track of loss\n",
        "    losses.append(loss.item())\n",
        "    \n",
        "\n",
        "    if i%10==0:\n",
        "        print(f'Epoch:{i},loss:{loss:.2f}')\n",
        "        \n",
        "    #Backpropagation\n",
        "    optimizer.zero_grad()\n",
        "    loss.backward()\n",
        "    optimizer.step()\n",
        "\n",
        "plt.plot(range(epochs),losses)\n",
        "plt.show()"
      ],
      "execution_count": 13,
      "outputs": [
        {
          "output_type": "stream",
          "text": [
            "Epoch:0,loss:1.34\n",
            "Epoch:10,loss:1.07\n",
            "Epoch:20,loss:0.82\n",
            "Epoch:30,loss:0.65\n",
            "Epoch:40,loss:0.53\n",
            "Epoch:50,loss:0.43\n",
            "Epoch:60,loss:0.32\n",
            "Epoch:70,loss:0.24\n",
            "Epoch:80,loss:0.20\n",
            "Epoch:90,loss:0.17\n",
            "Epoch:100,loss:0.15\n",
            "Epoch:110,loss:0.13\n",
            "Epoch:120,loss:0.12\n",
            "Epoch:130,loss:0.11\n",
            "Epoch:140,loss:0.10\n",
            "Epoch:150,loss:0.09\n",
            "Epoch:160,loss:0.08\n",
            "Epoch:170,loss:0.07\n",
            "Epoch:180,loss:0.07\n",
            "Epoch:190,loss:0.06\n"
          ],
          "name": "stdout"
        },
        {
          "output_type": "display_data",
          "data": {
            "image/png": "[encoded data removed]",
            "text/plain": [
              "<Figure size 432x288 with 1 Axes>"
            ]
          },
          "metadata": {
            "tags": [],
            "needs_background": "light"
          }
        }
      ]
    }
  ]
}
